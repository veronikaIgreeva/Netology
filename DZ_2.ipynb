{
 "cells": [
  {
   "cell_type": "markdown",
   "metadata": {},
   "source": [
    "Дан список с визитами по городам и странам. Напишите код, который возвращает отфильтрованный список geo_logs, содержащий только визиты из России. Считайте, что список geo_logs легко помещается в оперативной памяти."
   ]
  },
  {
   "cell_type": "code",
   "execution_count": 1,
   "metadata": {},
   "outputs": [],
   "source": [
    "geo_logs = [\n",
    "\t{'visit1': ['Москва', 'Россия']},\n",
    "\t{'visit2': ['Дели', 'Индия']},\n",
    "\t{'visit3': ['Владимир', 'Россия']},\n",
    "\t{'visit4': ['Лиссабон', 'Португалия']},\n",
    "\t{'visit5': ['Париж', 'Франция']},\n",
    "\t{'visit6': ['Лиссабон', 'Португалия']},\n",
    "\t{'visit7': ['Тула', 'Россия']},\n",
    "\t{'visit8': ['Тула', 'Россия']},\n",
    "\t{'visit9': ['Курск', 'Россия']},\n",
    "\t{'visit10': ['Архангельск', 'Россия']},\n",
    "]"
   ]
  },
  {
   "cell_type": "code",
   "execution_count": 30,
   "metadata": {},
   "outputs": [
    {
     "name": "stdout",
     "output_type": "stream",
     "text": [
      "{'visit1': ['Москва', 'Россия']}\n",
      "{'visit3': ['Владимир', 'Россия']}\n",
      "{'visit7': ['Тула', 'Россия']}\n",
      "{'visit8': ['Тула', 'Россия']}\n",
      "{'visit9': ['Курск', 'Россия']}\n",
      "{'visit10': ['Архангельск', 'Россия']}\n"
     ]
    }
   ],
   "source": [
    "for from_russia_with_love in geo_logs:\n",
    "    if 'Россия' in list(from_russia_with_love.values())[0]:\n",
    "        print(from_russia_with_love)"
   ]
  },
  {
   "cell_type": "markdown",
   "metadata": {},
   "source": [
    "Выведите на экран все уникальные гео-ID из значений словаря ids. Т. е. список вида [213, 15, 54, 119, 98, 35]"
   ]
  },
  {
   "cell_type": "code",
   "execution_count": 2,
   "metadata": {},
   "outputs": [],
   "source": [
    "ids = {'user1': [213, 213, 213, 15, 213], 'user2': [54, 54, 119, 119, 119], 'user3': [213, 98, 98, 35]}"
   ]
  },
  {
   "cell_type": "code",
   "execution_count": 41,
   "metadata": {},
   "outputs": [
    {
     "name": "stdout",
     "output_type": "stream",
     "text": [
      "{98, 35, 15, 213, 54, 119}\n"
     ]
    },
    {
     "data": {
      "text/plain": [
       "[15, 35, 54, 98, 119, 213]"
      ]
     },
     "execution_count": 41,
     "metadata": {},
     "output_type": "execute_result"
    }
   ],
   "source": [
    "ids_set = set()\n",
    "\n",
    "for user_id, loc_ids in ids.items():\n",
    "    for loc_id in loc_ids:\n",
    "        ids_set.add(loc_id)\n",
    "print(ids_set)\n",
    "sorted (ids_set)"
   ]
  },
  {
   "cell_type": "markdown",
   "metadata": {},
   "source": [
    "Список поисковых запросов. Получить распределение количества слов в них. Т. е. поисковых запросов из одного слова 5%, из двух - 7%, из трех - 3% итд."
   ]
  },
  {
   "cell_type": "code",
   "execution_count": 1,
   "metadata": {},
   "outputs": [],
   "source": [
    "queries = [\n",
    "\t'смотреть сериалы онлайн',\n",
    "\t'новости спорта',\n",
    "\t'афиша кино',\n",
    "\t'курс доллара',\n",
    "\t'сериалы этим летом',\n",
    "\t'курс по питону',\n",
    "\t'сериалы про спорт',\n",
    "]"
   ]
  },
  {
   "cell_type": "code",
   "execution_count": 81,
   "metadata": {},
   "outputs": [
    {
     "name": "stdout",
     "output_type": "stream",
     "text": [
      "{3: 4, 2: 3}\n",
      "{3: 57.14, 2: 42.86}\n"
     ]
    }
   ],
   "source": [
    "dict_words = {} \n",
    "for query_split in queries:\n",
    "    count_words = len(query_split.split())\n",
    "    dict_words[count_words] = dict_words.get(count_words, 0) + 1\n",
    "print (dict_words)\n",
    "sum_values = sum (dict_words.values())\n",
    "for keys, values in dict_words.items():\n",
    "    dict_words[keys] = round (values/sum_values*100, 2)\n",
    "print (dict_words)"
   ]
  },
  {
   "cell_type": "markdown",
   "metadata": {},
   "source": [
    "Дана статистика рекламных каналов по объемам продаж. Напишите скрипт, который возвращает название канала с максимальным объемом.\n",
    "Т. е. в данном примере скрипт должен возвращать 'yandex'."
   ]
  },
  {
   "cell_type": "code",
   "execution_count": 77,
   "metadata": {},
   "outputs": [],
   "source": [
    "stats = {'facebook': 55, 'yandex': 120, 'vk': 115, 'google': 99, 'email': 42, 'ok': 98}"
   ]
  },
  {
   "cell_type": "code",
   "execution_count": 88,
   "metadata": {},
   "outputs": [
    {
     "name": "stdout",
     "output_type": "stream",
     "text": [
      "('yandex', 120)\n"
     ]
    }
   ],
   "source": [
    "max_stats = max (stats.items ())\n",
    "print (max_stats)"
   ]
  },
  {
   "cell_type": "code",
   "execution_count": null,
   "metadata": {},
   "outputs": [],
   "source": [
    "Дан поток логов по количеству просмотренных страниц для каждого пользователя. \n",
    "Список отсортирован по ID пользователя. \n",
    "Вам необходимо написать алгоритм, который считает среднее значение просмотров на пользователя. \n",
    "Т. е. надо посчитать отношение суммы всех просмотров к количеству уникальных пользователей. \n",
    "Учтите, что весь список stream не помещается в оперативную память, т. е. его нужно обрабатывать поэлементно в цикле."
   ]
  },
  {
   "cell_type": "code",
   "execution_count": 90,
   "metadata": {},
   "outputs": [],
   "source": [
    "stream = [\n",
    "\t'2018-01-01,user1,3',\n",
    "\t'2018-01-07,user1,4',\n",
    "\t'2018-03-29,user1,1',\n",
    "\t'2018-04-04,user1,13',\n",
    "\t'2018-01-05,user2,7',\n",
    "\t'2018-06-14,user3,4',\n",
    "\t'2018-07-02,user3,10',\n",
    "\t'2018-03-21,user4,19',\n",
    "\t'2018-03-22,user4,4',\n",
    "\t'2018-04-22,user4,8',\n",
    "\t'2018-05-03,user4,9',\n",
    "\t'2018-05-11,user4,11',\n",
    "]"
   ]
  },
  {
   "cell_type": "code",
   "execution_count": 125,
   "metadata": {},
   "outputs": [
    {
     "name": "stdout",
     "output_type": "stream",
     "text": [
      "23.25\n"
     ]
    }
   ],
   "source": [
    "stream_logs = []\n",
    "for string_value in stream:\n",
    "    s_v=string_value.split (',')\n",
    "    stream_logs.append (s_v)\n",
    "for i in stream_logs:\n",
    "    i[2] = int(i[2])\n",
    "#print (stream_logs) \n",
    "\n",
    "sum_i = []\n",
    "for i in stream_logs:\n",
    "    sum_i.append (i [2])\n",
    "#print (sum_i)\n",
    "\n",
    "all_sum =  sum(sum_i)\n",
    "#print (all_sum)\n",
    "\n",
    "users_id = set ()\n",
    "for v in stream_logs:\n",
    "    users_id.add (v[1])\n",
    "count_users_id = len(users_id)\n",
    "#print (count_users_id)\n",
    "\n",
    "avg_views = all_sum/count_users_id\n",
    "print (avg_views)"
   ]
  },
  {
   "cell_type": "markdown",
   "metadata": {},
   "source": [
    "Дана статистика рекламных кампаний по дням. Напишите алгоритм, который по паре дата-кампания ищет значение численного столбца. Т. е. для даты '2018-01-01' и 'google' нужно получить число 25. Считайте, что все комбинации дата-кампания уникальны, а список stats легко помещается в оперативной памяти."
   ]
  },
  {
   "cell_type": "code",
   "execution_count": 129,
   "metadata": {},
   "outputs": [],
   "source": [
    "stats = [\n",
    "\t['2018-01-01', 'google', 25],\n",
    "\t['2018-01-01', 'yandex', 65],\n",
    "\t['2018-01-01', 'market', 89],\n",
    "\t['2018-01-02', 'google', 574],\n",
    "\t['2018-01-02', 'yandex', 249],\n",
    "\t['2018-01-02', 'market', 994],\n",
    "\t['2018-01-03', 'google', 1843],\n",
    "\t['2018-01-03', 'yandex', 1327],\n",
    "\t['2018-01-03', 'market', 1764],\n",
    "]"
   ]
  },
  {
   "cell_type": "code",
   "execution_count": 131,
   "metadata": {},
   "outputs": [
    {
     "data": {
      "text/plain": [
       "25"
      ]
     },
     "execution_count": 131,
     "metadata": {},
     "output_type": "execute_result"
    }
   ],
   "source": [
    "stats_dict = {}\n",
    "for column in stats:\n",
    "    stats_dict.setdefault(column[0] + column[1], column[2]) \n",
    "stats_dict ['2018-01-01' 'google' ]"
   ]
  },
  {
   "cell_type": "markdown",
   "metadata": {},
   "source": [
    "Бонусный вариант (делать его не обязательно)\n",
    "Рассмотрите обобщенный вариант этой задачи: имеется таблица из n столбцов. Первые n-1 столбцов - признаки (комбинации этих признаков в таблице уникальные). Последний столбец - значение. Вам необходимо по набору n-1 признаков найти соответствующую строчку в таблице и вернуть значение из правого столбца. \n",
    "\n",
    "Одно из применений задачи - объединение двух таблиц по n столбцов, одна из которых помещается в оперативной памяти. Например, 7 столбцов по 1 и 10 миллионов строк."
   ]
  },
  {
   "cell_type": "code",
   "execution_count": null,
   "metadata": {},
   "outputs": [],
   "source": []
  },
  {
   "cell_type": "code",
   "execution_count": null,
   "metadata": {},
   "outputs": [],
   "source": []
  }
 ],
 "metadata": {
  "kernelspec": {
   "display_name": "Python 3",
   "language": "python",
   "name": "python3"
  },
  "language_info": {
   "codemirror_mode": {
    "name": "ipython",
    "version": 3
   },
   "file_extension": ".py",
   "mimetype": "text/x-python",
   "name": "python",
   "nbconvert_exporter": "python",
   "pygments_lexer": "ipython3",
   "version": "3.7.1"
  }
 },
 "nbformat": 4,
 "nbformat_minor": 2
}
