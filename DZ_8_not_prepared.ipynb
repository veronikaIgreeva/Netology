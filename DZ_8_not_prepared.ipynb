{
 "cells": [
  {
   "cell_type": "code",
   "execution_count": 41,
   "metadata": {},
   "outputs": [],
   "source": [
    "import pandas as pd\n",
    "import matplotlib.pyplot as plt\n",
    "%matplotlib inline"
   ]
  },
  {
   "cell_type": "markdown",
   "metadata": {},
   "source": [
    "Построить 5 графиков по выбранным данным. \n",
    "\n",
    "Графики должны быть различных видов и использовать хотя бы 2 из рассмотренных на занятии библиотек. \n",
    "\n",
    "Для каждого описать, какого типа переменные участвуют в визуализации, какова её цель (например, посмотреть на корреляцию двух величин или на распределение значений) и почему выбрали именно такой тип графика.\n",
    "\n",
    " "
   ]
  },
  {
   "cell_type": "markdown",
   "metadata": {},
   "source": [
    "1 график. Во всех примерах использовался датасет NBA. Рассмотрим распределение игроков по возрасту. Цель графика - распределение значений, гистограмма была выбрана из-за ее наглядности. Из данного графика например наглядно можно увидеть, что наибольшее количество игроков в возрасте от 23-24 лет."
   ]
  },
  {
   "cell_type": "code",
   "execution_count": 21,
   "metadata": {},
   "outputs": [
    {
     "data": {
      "text/plain": [
       "Text(0.5, 1.0, 'Распределение игроков по возрасту')"
      ]
     },
     "execution_count": 21,
     "metadata": {},
     "output_type": "execute_result"
    },
    {
     "data": {
      "image/png": "[encoded data removed]",
      "text/plain": [
       "<Figure size 432x288 with 1 Axes>"
      ]
     },
     "metadata": {
      "needs_background": "light"
     },
     "output_type": "display_data"
    }
   ],
   "source": [
    "season_stats = pd.read_csv ('Seasons_Stats.csv')\n",
    "season_stats_age = season_stats ['Age'].hist (bins = 25)\n",
    "season_stats_age.set_xlabel('Возраст игроков, лет')\n",
    "season_stats_age.set_ylabel('Количество игроков, чел.')\n",
    "season_stats_age.set_title('Распределение игроков по возрасту')"
   ]
  },
  {
   "cell_type": "markdown",
   "metadata": {},
   "source": [
    "2 график. Цель графика - распределение значений. Хотелось посмотреть сколько игроков играет в командах разных университетов. Здесь наглядно происходит демонстрация "
   ]
  },
  {
   "cell_type": "code",
   "execution_count": 166,
   "metadata": {},
   "outputs": [
    {
     "data": {
      "text/html": [
       "<style  type=\"text/css\" >\n",
       "    #T_8cb1f9b0_8b93_11e9_8d13_240a64069bferow0_col0 {\n",
       "            width:  10em;\n",
       "             height:  80%;\n",
       "            background:  linear-gradient(90deg,#d65f5f 100.0%, transparent 0%);\n",
       "        }    #T_8cb1f9b0_8b93_11e9_8d13_240a64069bferow1_col0 {\n",
       "            width:  10em;\n",
       "             height:  80%;\n",
       "            background:  linear-gradient(90deg,#d65f5f 83.3%, transparent 0%);\n",
       "        }    #T_8cb1f9b0_8b93_11e9_8d13_240a64069bferow2_col0 {\n",
       "            width:  10em;\n",
       "             height:  80%;\n",
       "            background:  linear-gradient(90deg,#d65f5f 75.0%, transparent 0%);\n",
       "        }    #T_8cb1f9b0_8b93_11e9_8d13_240a64069bferow3_col0 {\n",
       "            width:  10em;\n",
       "             height:  80%;\n",
       "            background:  linear-gradient(90deg,#d65f5f 43.8%, transparent 0%);\n",
       "        }    #T_8cb1f9b0_8b93_11e9_8d13_240a64069bferow4_col0 {\n",
       "            width:  10em;\n",
       "             height:  80%;\n",
       "            background:  linear-gradient(90deg,#d65f5f 41.7%, transparent 0%);\n",
       "        }    #T_8cb1f9b0_8b93_11e9_8d13_240a64069bferow5_col0 {\n",
       "            width:  10em;\n",
       "             height:  80%;\n",
       "            background:  linear-gradient(90deg,#d65f5f 18.8%, transparent 0%);\n",
       "        }    #T_8cb1f9b0_8b93_11e9_8d13_240a64069bferow6_col0 {\n",
       "            width:  10em;\n",
       "             height:  80%;\n",
       "            background:  linear-gradient(90deg,#d65f5f 10.4%, transparent 0%);\n",
       "        }    #T_8cb1f9b0_8b93_11e9_8d13_240a64069bferow7_col0 {\n",
       "            width:  10em;\n",
       "             height:  80%;\n",
       "            background:  linear-gradient(90deg,#d65f5f 8.3%, transparent 0%);\n",
       "        }    #T_8cb1f9b0_8b93_11e9_8d13_240a64069bferow8_col0 {\n",
       "            width:  10em;\n",
       "             height:  80%;\n",
       "        }    #T_8cb1f9b0_8b93_11e9_8d13_240a64069bferow9_col0 {\n",
       "            width:  10em;\n",
       "             height:  80%;\n",
       "        }</style>  \n",
       "<table id=\"T_8cb1f9b0_8b93_11e9_8d13_240a64069bfe\" > \n",
       "<thead>    <tr> \n",
       "        <th class=\"blank level0\" ></th> \n",
       "        <th class=\"col_heading level0 col0\" >name</th> \n",
       "    </tr>    <tr> \n",
       "        <th class=\"index_name level0\" >college</th> \n",
       "        <th class=\"blank\" ></th> \n",
       "    </tr></thead> \n",
       "<tbody>    <tr> \n",
       "        <th id=\"T_8cb1f9b0_8b93_11e9_8d13_240a64069bfelevel0_row0\" class=\"row_heading level0 row0\" >University of Kentucky</th> \n",
       "        <td id=\"T_8cb1f9b0_8b93_11e9_8d13_240a64069bferow0_col0\" class=\"data row0 col0\" >99</td> \n",
       "    </tr>    <tr> \n",
       "        <th id=\"T_8cb1f9b0_8b93_11e9_8d13_240a64069bfelevel0_row1\" class=\"row_heading level0 row1\" >University of California, Los Angeles</th> \n",
       "        <td id=\"T_8cb1f9b0_8b93_11e9_8d13_240a64069bferow1_col0\" class=\"data row1 col0\" >91</td> \n",
       "    </tr>    <tr> \n",
       "        <th id=\"T_8cb1f9b0_8b93_11e9_8d13_240a64069bfelevel0_row2\" class=\"row_heading level0 row2\" >University of North Carolina</th> \n",
       "        <td id=\"T_8cb1f9b0_8b93_11e9_8d13_240a64069bferow2_col0\" class=\"data row2 col0\" >87</td> \n",
       "    </tr>    <tr> \n",
       "        <th id=\"T_8cb1f9b0_8b93_11e9_8d13_240a64069bfelevel0_row3\" class=\"row_heading level0 row3\" >University of Kansas</th> \n",
       "        <td id=\"T_8cb1f9b0_8b93_11e9_8d13_240a64069bferow3_col0\" class=\"data row3 col0\" >72</td> \n",
       "    </tr>    <tr> \n",
       "        <th id=\"T_8cb1f9b0_8b93_11e9_8d13_240a64069bfelevel0_row4\" class=\"row_heading level0 row4\" >Duke University</th> \n",
       "        <td id=\"T_8cb1f9b0_8b93_11e9_8d13_240a64069bferow4_col0\" class=\"data row4 col0\" >71</td> \n",
       "    </tr>    <tr> \n",
       "        <th id=\"T_8cb1f9b0_8b93_11e9_8d13_240a64069bfelevel0_row5\" class=\"row_heading level0 row5\" >Indiana University</th> \n",
       "        <td id=\"T_8cb1f9b0_8b93_11e9_8d13_240a64069bferow5_col0\" class=\"data row5 col0\" >60</td> \n",
       "    </tr>    <tr> \n",
       "        <th id=\"T_8cb1f9b0_8b93_11e9_8d13_240a64069bfelevel0_row6\" class=\"row_heading level0 row6\" >University of Notre Dame</th> \n",
       "        <td id=\"T_8cb1f9b0_8b93_11e9_8d13_240a64069bferow6_col0\" class=\"data row6 col0\" >56</td> \n",
       "    </tr>    <tr> \n",
       "        <th id=\"T_8cb1f9b0_8b93_11e9_8d13_240a64069bfelevel0_row7\" class=\"row_heading level0 row7\" >University of Louisville</th> \n",
       "        <td id=\"T_8cb1f9b0_8b93_11e9_8d13_240a64069bferow7_col0\" class=\"data row7 col0\" >55</td> \n",
       "    </tr>    <tr> \n",
       "        <th id=\"T_8cb1f9b0_8b93_11e9_8d13_240a64069bfelevel0_row8\" class=\"row_heading level0 row8\" >St. John's University</th> \n",
       "        <td id=\"T_8cb1f9b0_8b93_11e9_8d13_240a64069bferow8_col0\" class=\"data row8 col0\" >51</td> \n",
       "    </tr>    <tr> \n",
       "        <th id=\"T_8cb1f9b0_8b93_11e9_8d13_240a64069bfelevel0_row9\" class=\"row_heading level0 row9\" >University of Arizona</th> \n",
       "        <td id=\"T_8cb1f9b0_8b93_11e9_8d13_240a64069bferow9_col0\" class=\"data row9 col0\" >51</td> \n",
       "    </tr></tbody> \n",
       "</table> "
      ],
      "text/plain": [
       "<pandas.io.formats.style.Styler at 0x166ea2ec438>"
      ]
     },
     "execution_count": 166,
     "metadata": {},
     "output_type": "execute_result"
    }
   ],
   "source": [
    "player_data = pd.read_csv ('player_data.csv')\n",
    "player_data = player_data [['name', 'college']].groupby ('college').count ().sort_values('name', ascending=False)\n",
    "player_data.head (10).style.bar()"
   ]
  },
  {
   "cell_type": "code",
   "execution_count": 146,
   "metadata": {},
   "outputs": [
    {
     "data": {
      "text/html": [
       "<div>\n",
       "<style scoped>\n",
       "    .dataframe tbody tr th:only-of-type {\n",
       "        vertical-align: middle;\n",
       "    }\n",
       "\n",
       "    .dataframe tbody tr th {\n",
       "        vertical-align: top;\n",
       "    }\n",
       "\n",
       "    .dataframe thead th {\n",
       "        text-align: right;\n",
       "    }\n",
       "</style>\n",
       "<table border=\"1\" class=\"dataframe\">\n",
       "  <thead>\n",
       "    <tr style=\"text-align: right;\">\n",
       "      <th></th>\n",
       "      <th>Unnamed: 0</th>\n",
       "      <th>Player</th>\n",
       "      <th>height</th>\n",
       "      <th>weight</th>\n",
       "      <th>collage</th>\n",
       "      <th>born</th>\n",
       "      <th>birth_city</th>\n",
       "      <th>birth_state</th>\n",
       "    </tr>\n",
       "  </thead>\n",
       "  <tbody>\n",
       "    <tr>\n",
       "      <th>0</th>\n",
       "      <td>0</td>\n",
       "      <td>Curly Armstrong</td>\n",
       "      <td>180.0</td>\n",
       "      <td>77.0</td>\n",
       "      <td>Indiana University</td>\n",
       "      <td>1918.0</td>\n",
       "      <td>NaN</td>\n",
       "      <td>NaN</td>\n",
       "    </tr>\n",
       "    <tr>\n",
       "      <th>1</th>\n",
       "      <td>1</td>\n",
       "      <td>Cliff Barker</td>\n",
       "      <td>188.0</td>\n",
       "      <td>83.0</td>\n",
       "      <td>University of Kentucky</td>\n",
       "      <td>1921.0</td>\n",
       "      <td>Yorktown</td>\n",
       "      <td>Indiana</td>\n",
       "    </tr>\n",
       "    <tr>\n",
       "      <th>2</th>\n",
       "      <td>2</td>\n",
       "      <td>Leo Barnhorst</td>\n",
       "      <td>193.0</td>\n",
       "      <td>86.0</td>\n",
       "      <td>University of Notre Dame</td>\n",
       "      <td>1924.0</td>\n",
       "      <td>NaN</td>\n",
       "      <td>NaN</td>\n",
       "    </tr>\n",
       "    <tr>\n",
       "      <th>3</th>\n",
       "      <td>3</td>\n",
       "      <td>Ed Bartels</td>\n",
       "      <td>196.0</td>\n",
       "      <td>88.0</td>\n",
       "      <td>North Carolina State University</td>\n",
       "      <td>1925.0</td>\n",
       "      <td>NaN</td>\n",
       "      <td>NaN</td>\n",
       "    </tr>\n",
       "    <tr>\n",
       "      <th>4</th>\n",
       "      <td>4</td>\n",
       "      <td>Ralph Beard</td>\n",
       "      <td>178.0</td>\n",
       "      <td>79.0</td>\n",
       "      <td>University of Kentucky</td>\n",
       "      <td>1927.0</td>\n",
       "      <td>Hardinsburg</td>\n",
       "      <td>Kentucky</td>\n",
       "    </tr>\n",
       "  </tbody>\n",
       "</table>\n",
       "</div>"
      ],
      "text/plain": [
       "   Unnamed: 0           Player  height  weight  \\\n",
       "0           0  Curly Armstrong   180.0    77.0   \n",
       "1           1     Cliff Barker   188.0    83.0   \n",
       "2           2    Leo Barnhorst   193.0    86.0   \n",
       "3           3       Ed Bartels   196.0    88.0   \n",
       "4           4      Ralph Beard   178.0    79.0   \n",
       "\n",
       "                           collage    born   birth_city birth_state  \n",
       "0               Indiana University  1918.0          NaN         NaN  \n",
       "1           University of Kentucky  1921.0     Yorktown     Indiana  \n",
       "2         University of Notre Dame  1924.0          NaN         NaN  \n",
       "3  North Carolina State University  1925.0          NaN         NaN  \n",
       "4           University of Kentucky  1927.0  Hardinsburg    Kentucky  "
      ]
     },
     "execution_count": 146,
     "metadata": {},
     "output_type": "execute_result"
    }
   ],
   "source": [
    "players = pd.read_csv ('Players.csv')\n",
    "players.head()"
   ]
  },
  {
   "cell_type": "code",
   "execution_count": 86,
   "metadata": {},
   "outputs": [
    {
     "ename": "AttributeError",
     "evalue": "'Series' object has no attribute 'style'",
     "output_type": "error",
     "traceback": [
      "\u001b[1;31m---------------------------------------------------------------------------\u001b[0m",
      "\u001b[1;31mAttributeError\u001b[0m                            Traceback (most recent call last)",
      "\u001b[1;32m<ipython-input-86-a7f66a29497d>\u001b[0m in \u001b[0;36m<module>\u001b[1;34m\u001b[0m\n\u001b[0;32m      1\u001b[0m \u001b[0mplayers\u001b[0m \u001b[1;33m=\u001b[0m \u001b[0mpd\u001b[0m\u001b[1;33m.\u001b[0m\u001b[0mread_csv\u001b[0m \u001b[1;33m(\u001b[0m\u001b[1;34m'Players.csv'\u001b[0m\u001b[1;33m)\u001b[0m\u001b[1;33m\u001b[0m\u001b[1;33m\u001b[0m\u001b[0m\n\u001b[1;32m----> 2\u001b[1;33m \u001b[0mplayers\u001b[0m \u001b[1;33m[\u001b[0m\u001b[1;34m'collage'\u001b[0m\u001b[1;33m]\u001b[0m\u001b[1;33m.\u001b[0m\u001b[0mvalue_counts\u001b[0m \u001b[1;33m(\u001b[0m\u001b[1;33m)\u001b[0m\u001b[1;33m.\u001b[0m\u001b[0mstyle\u001b[0m\u001b[1;33m.\u001b[0m\u001b[0mbar\u001b[0m\u001b[1;33m(\u001b[0m\u001b[1;33m)\u001b[0m\u001b[1;33m\u001b[0m\u001b[1;33m\u001b[0m\u001b[0m\n\u001b[0m",
      "\u001b[1;32m~\\Anaconda3\\lib\\site-packages\\pandas\\core\\generic.py\u001b[0m in \u001b[0;36m__getattr__\u001b[1;34m(self, name)\u001b[0m\n\u001b[0;32m   4374\u001b[0m             \u001b[1;32mif\u001b[0m \u001b[0mself\u001b[0m\u001b[1;33m.\u001b[0m\u001b[0m_info_axis\u001b[0m\u001b[1;33m.\u001b[0m\u001b[0m_can_hold_identifiers_and_holds_name\u001b[0m\u001b[1;33m(\u001b[0m\u001b[0mname\u001b[0m\u001b[1;33m)\u001b[0m\u001b[1;33m:\u001b[0m\u001b[1;33m\u001b[0m\u001b[1;33m\u001b[0m\u001b[0m\n\u001b[0;32m   4375\u001b[0m                 \u001b[1;32mreturn\u001b[0m \u001b[0mself\u001b[0m\u001b[1;33m[\u001b[0m\u001b[0mname\u001b[0m\u001b[1;33m]\u001b[0m\u001b[1;33m\u001b[0m\u001b[1;33m\u001b[0m\u001b[0m\n\u001b[1;32m-> 4376\u001b[1;33m             \u001b[1;32mreturn\u001b[0m \u001b[0mobject\u001b[0m\u001b[1;33m.\u001b[0m\u001b[0m__getattribute__\u001b[0m\u001b[1;33m(\u001b[0m\u001b[0mself\u001b[0m\u001b[1;33m,\u001b[0m \u001b[0mname\u001b[0m\u001b[1;33m)\u001b[0m\u001b[1;33m\u001b[0m\u001b[1;33m\u001b[0m\u001b[0m\n\u001b[0m\u001b[0;32m   4377\u001b[0m \u001b[1;33m\u001b[0m\u001b[0m\n\u001b[0;32m   4378\u001b[0m     \u001b[1;32mdef\u001b[0m \u001b[0m__setattr__\u001b[0m\u001b[1;33m(\u001b[0m\u001b[0mself\u001b[0m\u001b[1;33m,\u001b[0m \u001b[0mname\u001b[0m\u001b[1;33m,\u001b[0m \u001b[0mvalue\u001b[0m\u001b[1;33m)\u001b[0m\u001b[1;33m:\u001b[0m\u001b[1;33m\u001b[0m\u001b[1;33m\u001b[0m\u001b[0m\n",
      "\u001b[1;31mAttributeError\u001b[0m: 'Series' object has no attribute 'style'"
     ]
    }
   ],
   "source": [
    "players = pd.read_csv ('Players.csv')\n",
    "players ['collage'].value_counts ().style.bar()"
   ]
  },
  {
   "cell_type": "code",
   "execution_count": null,
   "metadata": {},
   "outputs": [],
   "source": []
  },
  {
   "cell_type": "code",
   "execution_count": null,
   "metadata": {},
   "outputs": [],
   "source": []
  },
  {
   "cell_type": "code",
   "execution_count": null,
   "metadata": {},
   "outputs": [],
   "source": []
  },
  {
   "cell_type": "code",
   "execution_count": null,
   "metadata": {},
   "outputs": [],
   "source": []
  },
  {
   "cell_type": "code",
   "execution_count": null,
   "metadata": {},
   "outputs": [],
   "source": []
  }
 ],
 "metadata": {
  "kernelspec": {
   "display_name": "Python 3",
   "language": "python",
   "name": "python3"
  },
  "language_info": {
   "codemirror_mode": {
    "name": "ipython",
    "version": 3
   },
   "file_extension": ".py",
   "mimetype": "text/x-python",
   "name": "python",
   "nbconvert_exporter": "python",
   "pygments_lexer": "ipython3",
   "version": "3.7.1"
  }
 },
 "nbformat": 4,
 "nbformat_minor": 2
}
