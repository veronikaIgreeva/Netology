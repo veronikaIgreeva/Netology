{
 "cells": [
  {
   "cell_type": "markdown",
   "metadata": {},
   "source": [
    "1. Даны 2 строки long_phrase и short_phrase. Напишите код, который проверяет действительно ли длинная фраза long_phrase длиннее короткой short_phrase. И выводит True или False в зависимости от результата сравнения.\n",
    "Решение:"
   ]
  },
  {
   "cell_type": "code",
   "execution_count": 25,
   "metadata": {},
   "outputs": [
    {
     "data": {
      "text/plain": [
       "True"
      ]
     },
     "execution_count": 25,
     "metadata": {},
     "output_type": "execute_result"
    }
   ],
   "source": [
    "long_phrase = 'Насколько проще было бы писать программы, если бы не заказчики'\n",
    "short_phrase = '640Кб должно хватить для любых задач. Билл Гейтс (по легенде)'\n",
    "len (long_phrase) > len (short_phrase)\n"
   ]
  },
  {
   "cell_type": "markdown",
   "metadata": {},
   "source": [
    "2. Дана строка text. Определите какая из двух букв встречается в нем чаще - 'а' или 'и'.\n",
    "text = 'Если программист в 9-00 утра на работе, значит, он там и ночевал'\n",
    "\n",
    "P. S. Вам может помочь методы replace или count для строк.\n",
    "\n",
    "\n",
    "Решение"
   ]
  },
  {
   "cell_type": "code",
   "execution_count": 26,
   "metadata": {},
   "outputs": [
    {
     "data": {
      "text/plain": [
       "True"
      ]
     },
     "execution_count": 26,
     "metadata": {},
     "output_type": "execute_result"
    }
   ],
   "source": [
    "text = 'Если программист в 9-00 утра на работе, значит, он там и ночевал'\n",
    "text.count ('а') > text.count ('и')"
   ]
  },
  {
   "cell_type": "markdown",
   "metadata": {},
   "source": [
    "3. Дано значение объема файла в байтах. Напишите перевод этого значения в мегабайты в формате:\n",
    "'Объем файла равен 213.68Mb'\n",
    "\n",
    "P. S. Найдите определение килобайта. Это не 1000 байт.\n",
    "\n",
    "Решение "
   ]
  },
  {
   "cell_type": "code",
   "execution_count": 27,
   "metadata": {},
   "outputs": [
    {
     "name": "stdout",
     "output_type": "stream",
     "text": [
      "218808.32\n",
      "Объем файла равен 213.68Mb\n"
     ]
    }
   ],
   "source": [
    "v_file = 224059719.68\n",
    "v_file_Kb = v_file / 1024 \n",
    "v_file_Mb = v_file_Kb / 1024\n",
    "result = 'Объем файла равен ' + str (v_file_Mb) + 'Mb'\n",
    "print (v_file_Kb)\n",
    "print (result)"
   ]
  },
  {
   "cell_type": "markdown",
   "metadata": {},
   "source": [
    "4. Выведите на экран значение синуса 30 градусов с помощью метода math.sin.\n",
    "\n",
    "Решение"
   ]
  },
  {
   "cell_type": "code",
   "execution_count": 49,
   "metadata": {},
   "outputs": [
    {
     "data": {
      "text/plain": [
       "0.49999999999999994"
      ]
     },
     "execution_count": 49,
     "metadata": {},
     "output_type": "execute_result"
    }
   ],
   "source": [
    "import math\n",
    "radians_30 = math.radians(30) \n",
    "math.sin (radians_30)"
   ]
  },
  {
   "cell_type": "markdown",
   "metadata": {},
   "source": [
    "5. В прошлом задании у вас скорее всего не получилось точного значения 0.5 из-за конечной точности вычисления синуса. Но почему некоторые простые операции также могут давать неточный результат? Попробуйте вывести на экран результат операции 0.1 + 0.2. Почему результат неточен?\n",
    "\n",
    "Решение"
   ]
  },
  {
   "cell_type": "code",
   "execution_count": 50,
   "metadata": {},
   "outputs": [
    {
     "data": {
      "text/plain": [
       "0.30000000000000004"
      ]
     },
     "execution_count": 50,
     "metadata": {},
     "output_type": "execute_result"
    }
   ],
   "source": [
    "0.1 + 0.2\n",
    "# python переводит хранимое значение как самое близкое представление бинарной дроби."
   ]
  },
  {
   "cell_type": "markdown",
   "metadata": {},
   "source": [
    "Задания посложнее\n",
    "В переменных a и b записаны 2 различных числа. Вам необходимо написать код, который меняет значения a и b местами без использования третьей переменной.\n",
    "\n",
    "Решение"
   ]
  },
  {
   "cell_type": "code",
   "execution_count": 76,
   "metadata": {},
   "outputs": [
    {
     "data": {
      "text/plain": [
       "'12'"
      ]
     },
     "execution_count": 76,
     "metadata": {},
     "output_type": "execute_result"
    }
   ],
   "source": [
    "x = 1\n",
    "y = 2\n",
    "str (x) + str (y)"
   ]
  },
  {
   "cell_type": "markdown",
   "metadata": {},
   "source": [
    "Дано число в двоичной системе счисления: num=10011. Напишите алгоритм перевода этого числа в привычную нам десятичную систему счисления.\n",
    "Возможно, вам понадобится цикл прохождения всех целых чисел от 0 до m:\n",
    "for n in range(m)\n",
    "\n",
    "Решение"
   ]
  },
  {
   "cell_type": "code",
   "execution_count": 74,
   "metadata": {},
   "outputs": [
    {
     "data": {
      "text/plain": [
       "19"
      ]
     },
     "execution_count": 74,
     "metadata": {},
     "output_type": "execute_result"
    }
   ],
   "source": [
    "num=10011\n",
    "num = str (num)\n",
    "(int (num[-1]) * 2 ** 0) + (int (num[-2]) * 2 ** 1) + (int (num[-3]) * 2 ** 2) + (int (num[1]) * 2 ** 3) + (int (num[0]) * 2 ** 4)"
   ]
  }
 ],
 "metadata": {
  "kernelspec": {
   "display_name": "Python 3",
   "language": "python",
   "name": "python3"
  },
  "language_info": {
   "codemirror_mode": {
    "name": "ipython",
    "version": 3
   },
   "file_extension": ".py",
   "mimetype": "text/x-python",
   "name": "python",
   "nbconvert_exporter": "python",
   "pygments_lexer": "ipython3",
   "version": "3.7.1"
  }
 },
 "nbformat": 4,
 "nbformat_minor": 2
}
