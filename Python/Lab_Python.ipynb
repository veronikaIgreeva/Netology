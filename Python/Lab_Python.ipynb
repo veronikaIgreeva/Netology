{
 "cells": [
  {
   "cell_type": "markdown",
   "metadata": {},
   "source": [
    "1.1 Дан   произвольный   список, содержащий только числа.\n",
    "Выведите результат сложения всех чисел больше 10"
   ]
  },
  {
   "cell_type": "code",
   "execution_count": 22,
   "metadata": {},
   "outputs": [
    {
     "data": {
      "text/plain": [
       "361"
      ]
     },
     "execution_count": 22,
     "metadata": {},
     "output_type": "execute_result"
    }
   ],
   "source": [
    "list_ = list (range (1,30))\n",
    "sum_list_gr_10 = 0\n",
    "for x in range (len (list_)):\n",
    "    if list_ [x] > 10:\n",
    "        sum_list_gr_10 = sum_list_gr_10 + x\n",
    "sum_list_gr_10"
   ]
  },
  {
   "cell_type": "markdown",
   "metadata": {},
   "source": [
    "1.2 Пусть   задан   список, содержащий строки.Выведите все строки, заканчивающиеся буквой r."
   ]
  },
  {
   "cell_type": "code",
   "execution_count": 38,
   "metadata": {},
   "outputs": [],
   "source": [
    "list_1 = ['carrier', 'plot', 'symbol', 'earlier', 'TEACHER', 'summer', 'wave']"
   ]
  },
  {
   "cell_type": "code",
   "execution_count": 93,
   "metadata": {},
   "outputs": [
    {
     "name": "stdout",
     "output_type": "stream",
     "text": [
      "carrier\n",
      "earlier\n",
      "TEACHER\n",
      "summer\n"
     ]
    }
   ],
   "source": [
    "for x in range (len (list_1)):\n",
    "    if list_1 [x][-1] == 'r' or list_1 [x][-1] == 'R':\n",
    "        print (list_1 [x])"
   ]
  },
  {
   "cell_type": "markdown",
   "metadata": {},
   "source": [
    "1.3. Сгенерируйте   и   выведите cлучайную строку размером 6 символов, содержащую только цифры. Строка должна содержать хотя бы одну цифру 3."
   ]
  },
  {
   "cell_type": "code",
   "execution_count": 62,
   "metadata": {},
   "outputs": [
    {
     "name": "stdout",
     "output_type": "stream",
     "text": [
      "844463\n"
     ]
    }
   ],
   "source": [
    "import random\n",
    "random_string = str (random.randint (0, 1000000))\n",
    "while len (random_string) == 6:\n",
    "    for x in range (len (random_string)):\n",
    "        if random_string [x] == '3':\n",
    "            print (random_string)\n",
    "    break"
   ]
  },
  {
   "cell_type": "markdown",
   "metadata": {},
   "source": [
    "1.4 Пусть   дана строка произвольной длины. Выведите информацию о том, сколько в ней символов и сколько слов"
   ]
  },
  {
   "cell_type": "code",
   "execution_count": 69,
   "metadata": {},
   "outputs": [],
   "source": [
    "string_len = 'Пусть   дана строка произвольной длины. Выведите информацию о том, сколько в ней символов и сколько слов'"
   ]
  },
  {
   "cell_type": "code",
   "execution_count": 70,
   "metadata": {},
   "outputs": [
    {
     "data": {
      "text/plain": [
       "104"
      ]
     },
     "execution_count": 70,
     "metadata": {},
     "output_type": "execute_result"
    }
   ],
   "source": [
    "len (string_len) # сколько символов"
   ]
  },
  {
   "cell_type": "code",
   "execution_count": 71,
   "metadata": {},
   "outputs": [
    {
     "data": {
      "text/plain": [
       "16"
      ]
     },
     "execution_count": 71,
     "metadata": {},
     "output_type": "execute_result"
    }
   ],
   "source": [
    "len (string_len.split ()) # сколько слов"
   ]
  },
  {
   "cell_type": "markdown",
   "metadata": {},
   "source": [
    "Матрицы-следующее за списками и строками важное понятие.Широко используется в линейной алгебре.Находит свое применение в современных рекомендательных системах и архитектуре нейронных сетей:\n",
    "2.1 Пусть   дана матрица чисел размером NхN. Представьте данную матрицу ввиде списка. Выведите результат сложения всех элементов матрицы"
   ]
  },
  {
   "cell_type": "code",
   "execution_count": 72,
   "metadata": {},
   "outputs": [],
   "source": [
    "import numpy as np"
   ]
  },
  {
   "cell_type": "code",
   "execution_count": 109,
   "metadata": {},
   "outputs": [
    {
     "data": {
      "text/plain": [
       "300"
      ]
     },
     "execution_count": 109,
     "metadata": {},
     "output_type": "execute_result"
    }
   ],
   "source": [
    "matrix_nn = np.arange (25).reshape(5,5)\n",
    "matrix_nn.sum ()"
   ]
  },
  {
   "cell_type": "markdown",
   "metadata": {},
   "source": [
    "2.2. Дана матрица размером NxM. Напишите алгоритм вычисления максимума из сумм элементов каждого столбца"
   ]
  },
  {
   "cell_type": "code",
   "execution_count": 110,
   "metadata": {},
   "outputs": [
    {
     "data": {
      "text/plain": [
       "99"
      ]
     },
     "execution_count": 110,
     "metadata": {},
     "output_type": "execute_result"
    }
   ],
   "source": [
    "matrix_nm_sum_max = np.arange (30).reshape(6,5).sum (axis = 0).max ()\n",
    "matrix_nm_sum_max"
   ]
  },
  {
   "cell_type": "markdown",
   "metadata": {},
   "source": [
    "Работа с динамичными структурами важная часть в имплементации вашего кода в продакшн систему:\n",
    "3.1 Пусть   список студентов представлен в виде структуры [[No, ФИО, Возраст,Группа],[No, ФИО, Возраст, Группа],[No, ФИО, Возраст, Группа]]. Преобразуйте список в словарь вида: {No: [ФИО, Возраст, Группа], No:[....], No: [....]}"
   ]
  },
  {
   "cell_type": "code",
   "execution_count": 1,
   "metadata": {},
   "outputs": [],
   "source": [
    "list_students =[[1, 'Ivanov Ivan Ivanovich', 25, 'A'],\n",
    " [2, 'Petrov Petr Petrovich', 29, 'B'],\n",
    " [3, 'Sidorov Sidor Sidorovich', 46, 'C']]"
   ]
  },
  {
   "cell_type": "code",
   "execution_count": 2,
   "metadata": {},
   "outputs": [
    {
     "name": "stdout",
     "output_type": "stream",
     "text": [
      "{1: ['Ivanov Ivan Ivanovich', 25, 'A'], 2: ['Petrov Petr Petrovich', 29, 'B'], 3: ['Sidorov Sidor Sidorovich', 46, 'C']}\n"
     ]
    }
   ],
   "source": [
    "dict_students = {}\n",
    "for x in list_students:\n",
    "    dict_students [x[0]] = x[1:]\n",
    "print (dict_students)"
   ]
  },
  {
   "cell_type": "markdown",
   "metadata": {},
   "source": [
    "3.2 Напишите алгоритм, позволяющий найти запись в словаре из задачи 3.1 (без преобразования словаря обратно в список) по фамилии и изменить в ней номер группы. Фамилию и новый номер группы необходимо ввести с клавиатуры"
   ]
  },
  {
   "cell_type": "code",
   "execution_count": null,
   "metadata": {},
   "outputs": [],
   "source": [
    "fio = input (str(' '))\n",
    "for k,v in dict_students.items():\n",
    "    if fio == v[0]:\n",
    "        dict_students[k]= [fio, v[1], input('Group',)]"
   ]
  },
  {
   "cell_type": "code",
   "execution_count": null,
   "metadata": {},
   "outputs": [],
   "source": [
    "print (dict_students)"
   ]
  },
  {
   "cell_type": "code",
   "execution_count": null,
   "metadata": {},
   "outputs": [],
   "source": [
    "# не разобралась с input"
   ]
  },
  {
   "cell_type": "markdown",
   "metadata": {},
   "source": [
    "3.3. Напишите алгоритм, позволяющий аналогично задаче 3.2 изменить возраст студент"
   ]
  },
  {
   "cell_type": "code",
   "execution_count": null,
   "metadata": {},
   "outputs": [],
   "source": [
    "fio= 'Ivanov Ivan Ivanovich'\n",
    "for k,v in dict_students.items():\n",
    "    if fio == v[0]:\n",
    "        dict_students[k]= [v[0], int(input('Year old',)),v[2]]\n",
    "print (dict_students)"
   ]
  },
  {
   "cell_type": "code",
   "execution_count": null,
   "metadata": {},
   "outputs": [],
   "source": [
    "# не разобралась с input"
   ]
  }
 ],
 "metadata": {
  "kernelspec": {
   "display_name": "Python 3",
   "language": "python",
   "name": "python3"
  },
  "language_info": {
   "codemirror_mode": {
    "name": "ipython",
    "version": 3
   },
   "file_extension": ".py",
   "mimetype": "text/x-python",
   "name": "python",
   "nbconvert_exporter": "python",
   "pygments_lexer": "ipython3",
   "version": "3.7.1"
  }
 },
 "nbformat": 4,
 "nbformat_minor": 2
}
